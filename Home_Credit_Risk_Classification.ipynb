{
  "nbformat": 4,
  "nbformat_minor": 0,
  "metadata": {
    "colab": {
      "provenance": [],
      "authorship_tag": "ABX9TyPQ4W2C7K3Ttgjo3WroZUc9",
      "include_colab_link": true
    },
    "kernelspec": {
      "name": "python3",
      "display_name": "Python 3"
    },
    "language_info": {
      "name": "python"
    }
  },
  "cells": [
    {
      "cell_type": "markdown",
      "metadata": {
        "id": "view-in-github",
        "colab_type": "text"
      },
      "source": [
        "<a href=\"https://colab.research.google.com/github/ShreyAgarwal11/ACPS_Project/blob/main/Home_Credit_Risk_Classification.ipynb\" target=\"_parent\"><img src=\"https://colab.research.google.com/assets/colab-badge.svg\" alt=\"Open In Colab\"/></a>"
      ]
    },
    {
      "cell_type": "code",
      "execution_count": 3,
      "metadata": {
        "id": "hBlTZZZ6PB3V"
      },
      "outputs": [],
      "source": [
        "from google.colab import userdata\n",
        "import os\n",
        "\n",
        "os.environ[\"KAGGLE_KEY\"] = userdata.get('KAGGLE_KEY')\n",
        "os.environ[\"KAGGLE_USERNAME\"] = userdata.get('KAGGLE_USERNAME')"
      ]
    },
    {
      "cell_type": "code",
      "source": [
        "! kaggle competitions download -c home-credit-credit-risk-model-stability"
      ],
      "metadata": {
        "colab": {
          "base_uri": "https://localhost:8080/"
        },
        "id": "tllXJb_7PHRb",
        "outputId": "10e04649-430d-46a7-f254-ead5fcb1571e"
      },
      "execution_count": 4,
      "outputs": [
        {
          "output_type": "stream",
          "name": "stdout",
          "text": [
            "Downloading home-credit-credit-risk-model-stability.zip to /content\n",
            "100% 3.13G/3.14G [00:35<00:00, 185MB/s]\n",
            "100% 3.14G/3.14G [00:36<00:00, 92.0MB/s]\n"
          ]
        }
      ]
    },
    {
      "cell_type": "code",
      "source": [
        "! unzip \"home-credit-credit-risk-model-stability.zip\""
      ],
      "metadata": {
        "colab": {
          "base_uri": "https://localhost:8080/"
        },
        "id": "e8wRxQnmUiiL",
        "outputId": "8897c219-8765-4270-85d3-8e8ba6741ccb"
      },
      "execution_count": 5,
      "outputs": [
        {
          "output_type": "stream",
          "name": "stdout",
          "text": [
            "Archive:  home-credit-credit-risk-model-stability.zip\n",
            "  inflating: csv_files/test/test_applprev_1_0.csv  \n",
            "  inflating: csv_files/test/test_applprev_1_1.csv  \n",
            "  inflating: csv_files/test/test_applprev_1_2.csv  \n",
            "  inflating: csv_files/test/test_applprev_2.csv  \n",
            "  inflating: csv_files/test/test_base.csv  \n",
            "  inflating: csv_files/test/test_credit_bureau_a_1_0.csv  \n",
            "  inflating: csv_files/test/test_credit_bureau_a_1_1.csv  \n",
            "  inflating: csv_files/test/test_credit_bureau_a_1_2.csv  \n",
            "  inflating: csv_files/test/test_credit_bureau_a_1_3.csv  \n",
            "  inflating: csv_files/test/test_credit_bureau_a_1_4.csv  \n",
            "  inflating: csv_files/test/test_credit_bureau_a_2_0.csv  \n",
            "  inflating: csv_files/test/test_credit_bureau_a_2_1.csv  \n",
            "  inflating: csv_files/test/test_credit_bureau_a_2_10.csv  \n",
            "  inflating: csv_files/test/test_credit_bureau_a_2_11.csv  \n",
            "  inflating: csv_files/test/test_credit_bureau_a_2_2.csv  \n",
            "  inflating: csv_files/test/test_credit_bureau_a_2_3.csv  \n",
            "  inflating: csv_files/test/test_credit_bureau_a_2_4.csv  \n",
            "  inflating: csv_files/test/test_credit_bureau_a_2_5.csv  \n",
            "  inflating: csv_files/test/test_credit_bureau_a_2_6.csv  \n",
            "  inflating: csv_files/test/test_credit_bureau_a_2_7.csv  \n",
            "  inflating: csv_files/test/test_credit_bureau_a_2_8.csv  \n",
            "  inflating: csv_files/test/test_credit_bureau_a_2_9.csv  \n",
            "  inflating: csv_files/test/test_credit_bureau_b_1.csv  \n",
            "  inflating: csv_files/test/test_credit_bureau_b_2.csv  \n",
            "  inflating: csv_files/test/test_debitcard_1.csv  \n",
            "  inflating: csv_files/test/test_deposit_1.csv  \n",
            "  inflating: csv_files/test/test_other_1.csv  \n",
            "  inflating: csv_files/test/test_person_1.csv  \n",
            "  inflating: csv_files/test/test_person_2.csv  \n",
            "  inflating: csv_files/test/test_static_0_0.csv  \n",
            "  inflating: csv_files/test/test_static_0_1.csv  \n",
            "  inflating: csv_files/test/test_static_0_2.csv  \n",
            "  inflating: csv_files/test/test_static_cb_0.csv  \n",
            "  inflating: csv_files/test/test_tax_registry_a_1.csv  \n",
            "  inflating: csv_files/test/test_tax_registry_b_1.csv  \n",
            "  inflating: csv_files/test/test_tax_registry_c_1.csv  \n",
            "  inflating: csv_files/train/train_applprev_1_0.csv  \n",
            "  inflating: csv_files/train/train_applprev_1_1.csv  \n",
            "  inflating: csv_files/train/train_applprev_2.csv  \n",
            "  inflating: csv_files/train/train_base.csv  \n",
            "  inflating: csv_files/train/train_credit_bureau_a_1_0.csv  \n",
            "  inflating: csv_files/train/train_credit_bureau_a_1_1.csv  \n",
            "  inflating: csv_files/train/train_credit_bureau_a_1_2.csv  \n",
            "  inflating: csv_files/train/train_credit_bureau_a_1_3.csv  \n",
            "  inflating: csv_files/train/train_credit_bureau_a_2_0.csv  \n",
            "  inflating: csv_files/train/train_credit_bureau_a_2_1.csv  \n",
            "  inflating: csv_files/train/train_credit_bureau_a_2_10.csv  \n",
            "  inflating: csv_files/train/train_credit_bureau_a_2_2.csv  \n",
            "  inflating: csv_files/train/train_credit_bureau_a_2_3.csv  \n",
            "  inflating: csv_files/train/train_credit_bureau_a_2_4.csv  \n",
            "  inflating: csv_files/train/train_credit_bureau_a_2_5.csv  \n",
            "  inflating: csv_files/train/train_credit_bureau_a_2_6.csv  \n",
            "  inflating: csv_files/train/train_credit_bureau_a_2_7.csv  \n",
            "  inflating: csv_files/train/train_credit_bureau_a_2_8.csv  \n",
            "  inflating: csv_files/train/train_credit_bureau_a_2_9.csv  \n",
            "  inflating: csv_files/train/train_credit_bureau_b_1.csv  \n",
            "  inflating: csv_files/train/train_credit_bureau_b_2.csv  \n",
            "  inflating: csv_files/train/train_debitcard_1.csv  \n",
            "  inflating: csv_files/train/train_deposit_1.csv  \n",
            "  inflating: csv_files/train/train_other_1.csv  \n",
            "  inflating: csv_files/train/train_person_1.csv  \n",
            "  inflating: csv_files/train/train_person_2.csv  \n",
            "  inflating: csv_files/train/train_static_0_0.csv  \n",
            "  inflating: csv_files/train/train_static_0_1.csv  \n",
            "  inflating: csv_files/train/train_static_cb_0.csv  \n",
            "  inflating: csv_files/train/train_tax_registry_a_1.csv  \n",
            "  inflating: csv_files/train/train_tax_registry_b_1.csv  \n",
            "  inflating: csv_files/train/train_tax_registry_c_1.csv  \n",
            "  inflating: feature_definitions.csv  \n",
            "  inflating: parquet_files/test/test_applprev_1_0.parquet  \n",
            "  inflating: parquet_files/test/test_applprev_1_1.parquet  \n",
            "  inflating: parquet_files/test/test_applprev_1_2.parquet  \n",
            "  inflating: parquet_files/test/test_applprev_2.parquet  \n",
            "  inflating: parquet_files/test/test_base.parquet  \n",
            "  inflating: parquet_files/test/test_credit_bureau_a_1_0.parquet  \n",
            "  inflating: parquet_files/test/test_credit_bureau_a_1_1.parquet  \n",
            "  inflating: parquet_files/test/test_credit_bureau_a_1_2.parquet  \n",
            "  inflating: parquet_files/test/test_credit_bureau_a_1_3.parquet  \n",
            "  inflating: parquet_files/test/test_credit_bureau_a_1_4.parquet  \n",
            "  inflating: parquet_files/test/test_credit_bureau_a_2_0.parquet  \n",
            "  inflating: parquet_files/test/test_credit_bureau_a_2_1.parquet  \n",
            "  inflating: parquet_files/test/test_credit_bureau_a_2_10.parquet  \n",
            "  inflating: parquet_files/test/test_credit_bureau_a_2_11.parquet  \n",
            "  inflating: parquet_files/test/test_credit_bureau_a_2_2.parquet  \n",
            "  inflating: parquet_files/test/test_credit_bureau_a_2_3.parquet  \n",
            "  inflating: parquet_files/test/test_credit_bureau_a_2_4.parquet  \n",
            "  inflating: parquet_files/test/test_credit_bureau_a_2_5.parquet  \n",
            "  inflating: parquet_files/test/test_credit_bureau_a_2_6.parquet  \n",
            "  inflating: parquet_files/test/test_credit_bureau_a_2_7.parquet  \n",
            "  inflating: parquet_files/test/test_credit_bureau_a_2_8.parquet  \n",
            "  inflating: parquet_files/test/test_credit_bureau_a_2_9.parquet  \n",
            "  inflating: parquet_files/test/test_credit_bureau_b_1.parquet  \n",
            "  inflating: parquet_files/test/test_credit_bureau_b_2.parquet  \n",
            "  inflating: parquet_files/test/test_debitcard_1.parquet  \n",
            "  inflating: parquet_files/test/test_deposit_1.parquet  \n",
            "  inflating: parquet_files/test/test_other_1.parquet  \n",
            "  inflating: parquet_files/test/test_person_1.parquet  \n",
            "  inflating: parquet_files/test/test_person_2.parquet  \n",
            "  inflating: parquet_files/test/test_static_0_0.parquet  \n",
            "  inflating: parquet_files/test/test_static_0_1.parquet  \n",
            "  inflating: parquet_files/test/test_static_0_2.parquet  \n",
            "  inflating: parquet_files/test/test_static_cb_0.parquet  \n",
            "  inflating: parquet_files/test/test_tax_registry_a_1.parquet  \n",
            "  inflating: parquet_files/test/test_tax_registry_b_1.parquet  \n",
            "  inflating: parquet_files/test/test_tax_registry_c_1.parquet  \n",
            "  inflating: parquet_files/train/train_applprev_1_0.parquet  \n",
            "  inflating: parquet_files/train/train_applprev_1_1.parquet  \n",
            "  inflating: parquet_files/train/train_applprev_2.parquet  \n",
            "  inflating: parquet_files/train/train_base.parquet  \n",
            "  inflating: parquet_files/train/train_credit_bureau_a_1_0.parquet  \n",
            "  inflating: parquet_files/train/train_credit_bureau_a_1_1.parquet  \n",
            "  inflating: parquet_files/train/train_credit_bureau_a_1_2.parquet  \n",
            "  inflating: parquet_files/train/train_credit_bureau_a_1_3.parquet  \n",
            "  inflating: parquet_files/train/train_credit_bureau_a_2_0.parquet  \n",
            "  inflating: parquet_files/train/train_credit_bureau_a_2_1.parquet  \n",
            "  inflating: parquet_files/train/train_credit_bureau_a_2_10.parquet  \n",
            "  inflating: parquet_files/train/train_credit_bureau_a_2_2.parquet  \n",
            "  inflating: parquet_files/train/train_credit_bureau_a_2_3.parquet  \n",
            "  inflating: parquet_files/train/train_credit_bureau_a_2_4.parquet  \n",
            "  inflating: parquet_files/train/train_credit_bureau_a_2_5.parquet  \n",
            "  inflating: parquet_files/train/train_credit_bureau_a_2_6.parquet  \n",
            "  inflating: parquet_files/train/train_credit_bureau_a_2_7.parquet  \n",
            "  inflating: parquet_files/train/train_credit_bureau_a_2_8.parquet  \n",
            "  inflating: parquet_files/train/train_credit_bureau_a_2_9.parquet  \n",
            "  inflating: parquet_files/train/train_credit_bureau_b_1.parquet  \n",
            "  inflating: parquet_files/train/train_credit_bureau_b_2.parquet  \n",
            "  inflating: parquet_files/train/train_debitcard_1.parquet  \n",
            "  inflating: parquet_files/train/train_deposit_1.parquet  \n",
            "  inflating: parquet_files/train/train_other_1.parquet  \n",
            "  inflating: parquet_files/train/train_person_1.parquet  \n",
            "  inflating: parquet_files/train/train_person_2.parquet  \n",
            "  inflating: parquet_files/train/train_static_0_0.parquet  \n",
            "  inflating: parquet_files/train/train_static_0_1.parquet  \n",
            "  inflating: parquet_files/train/train_static_cb_0.parquet  \n",
            "  inflating: parquet_files/train/train_tax_registry_a_1.parquet  \n",
            "  inflating: parquet_files/train/train_tax_registry_b_1.parquet  \n",
            "  inflating: parquet_files/train/train_tax_registry_c_1.parquet  \n",
            "  inflating: sample_submission.csv   \n"
          ]
        }
      ]
    },
    {
      "cell_type": "code",
      "source": [],
      "metadata": {
        "id": "8qQv1TVNU1Tl"
      },
      "execution_count": null,
      "outputs": []
    }
  ]
}